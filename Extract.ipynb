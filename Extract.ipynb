{
 "cells": [
  {
   "cell_type": "code",
   "execution_count": null,
   "id": "7c9af328",
   "metadata": {},
   "outputs": [],
   "source": [
    "import pandas as pd\n",
    "from sqlalchemy import create_engine"
   ]
  },
  {
   "cell_type": "markdown",
   "id": "c7881ac2",
   "metadata": {},
   "source": [
    "### Extract CSVs into DataFrames"
   ]
  },
  {
   "cell_type": "code",
   "execution_count": null,
   "id": "5a369022",
   "metadata": {},
   "outputs": [],
   "source": [
    "automate_file = \"Resources/automation_data_by_state.csv\"\n",
    "salary_file = \"Resources/occupation_salary.csv\"\n",
    "soc_file = \"Resources/soc_codes.csv\""
   ]
  },
  {
   "cell_type": "markdown",
   "id": "f61c86f3",
   "metadata": {},
   "source": [
    "### Cleaning Automation Data "
   ]
  },
  {
   "cell_type": "code",
   "execution_count": null,
   "id": "6e5c015f",
   "metadata": {},
   "outputs": [],
   "source": [
    "automation_df = pd.read_csv(automate_file)\n",
    "automation_df.rename(columns = {\n",
    "    'District of Columbia':'District_of_Columbia',\n",
    "    'New Hampshire':'New_Hampshire',\n",
    "    'New Jersey':'New_Jersey','New Mexico':'New_Mexico',\n",
    "    'New York':'New_York','North Carolina':'North_Carolina',\n",
    "    'North Dakota':'North_Dakota','Rhode Island':'Rhode_Island',\n",
    "    'South Carolina':'South_Carolina',\n",
    "    'South Dakota':'South_Dakota','West Virginia':'West_Virginia',\n",
    "    'Occupation':'OCCUPATION','Probability':'Automation_Probability'\n",
    "},inplace=True)\n",
    "\n",
    "automation_df.drop(columns=['OCCUPATION'],inplace=True)\n",
    "\n",
    "automation_df.head(1)"
   ]
  },
  {
   "cell_type": "markdown",
   "id": "a23802cf",
   "metadata": {},
   "source": [
    "### Cleaning Salary Data "
   ]
  },
  {
   "cell_type": "code",
   "execution_count": null,
   "id": "5574ed46",
   "metadata": {
    "scrolled": true
   },
   "outputs": [],
   "source": [
    "salary_df = pd.read_csv(salary_file)\n",
    "salary_df = salary_df.rename(columns={'ANNUAL':'ANNUAL_only', \n",
    "                                      \"HOURLY\":\"HOURLY_only\",\n",
    "                                      'OCC_CODE':'SOC'})\n",
    "\n",
    "bool_list = ['ANNUAL_only','HOURLY_only']\n",
    "\n",
    "salary_df[bool_list] = salary_df[bool_list].fillna(0).astype(int)\n",
    "\n",
    "salary_df[bool_list] = salary_df[bool_list].replace(True,1).astype(int)\n",
    "\n",
    "salary_df[bool_list] = salary_df[bool_list].astype(bool)"
   ]
  },
  {
   "cell_type": "code",
   "execution_count": null,
   "id": "05e12ee5",
   "metadata": {},
   "outputs": [],
   "source": [
    "salary_df.replace(\",\",\"\", regex=True,inplace=True)\n",
    "\n",
    "salary_df = salary_df.replace('*', None)\n",
    "salary_df = salary_df.replace('**', None)\n",
    "salary_df = salary_df.replace('#', None)\n",
    "\n",
    "salary_df.drop(columns=['OCC_TITLE','OCC_GROUP'],inplace=True)"
   ]
  },
  {
   "cell_type": "code",
   "execution_count": null,
   "id": "56f35045",
   "metadata": {},
   "outputs": [],
   "source": [
    "integer_list = ['TOT_EMP','EMP_PRSE','H_MEAN','A_MEAN','MEAN_PRSE','H_PCT10',\n",
    "                'H_PCT25','H_MEDIAN','H_PCT75','H_PCT90','A_PCT10','A_PCT25',\n",
    "                'A_MEDIAN','A_PCT75','A_PCT90','ANNUAL_only','HOURLY_only']\n",
    "\n",
    "salary_df[integer_list] = salary_df[integer_list].astype(float)\n",
    "\n",
    "# Drop row for Total employment (SOC: 00-0000)\n",
    "salary_df = salary_df[salary_df['SOC'] != '00-0000']\n",
    "salary_df.head(1)"
   ]
  },
  {
   "cell_type": "code",
   "execution_count": null,
   "id": "e925e9a7",
   "metadata": {},
   "outputs": [],
   "source": [
    "salary_df.head(1)"
   ]
  },
  {
   "cell_type": "markdown",
   "id": "1fd2049f",
   "metadata": {},
   "source": [
    "### Cleaning up SOC code data"
   ]
  },
  {
   "cell_type": "code",
   "execution_count": null,
   "id": "36b99a24",
   "metadata": {},
   "outputs": [],
   "source": [
    "soc_df = pd.read_csv(soc_file)\n",
    "soc_df = soc_df[['SOC Code','SOC Title','SOC Group']]\n",
    "soc_df.rename(columns={'SOC Code':'SOC_code',\n",
    "                       'SOC Title':'SOC_title','SOC Group':'SOC_group'},\n",
    "                      inplace=True)\n",
    "\n",
    "# ERROR - missing key for this role in Primary Key list\n",
    "soc_df.loc[soc_df['SOC_code']=='11-2031',:]"
   ]
  },
  {
   "cell_type": "markdown",
   "id": "2a23dbe7",
   "metadata": {},
   "source": [
    "## Create database connection "
   ]
  },
  {
   "cell_type": "code",
   "execution_count": null,
   "id": "4883a84e",
   "metadata": {},
   "outputs": [],
   "source": [
    "conn = 'postgres:postgres@localhost:5432/labor_stats_db'\n",
    "engine = create_engine(f'postgresql://{conn}')"
   ]
  },
  {
   "cell_type": "code",
   "execution_count": null,
   "id": "d881a2d8",
   "metadata": {},
   "outputs": [],
   "source": [
    "soc_df.to_sql(name='SOC_keys',con=engine,if_exists='append',index=False)"
   ]
  },
  {
   "cell_type": "code",
   "execution_count": null,
   "id": "1ea9312f",
   "metadata": {},
   "outputs": [],
   "source": [
    "salary_df.to_sql(name='Salary',con=engine,if_exists='append',index=False)"
   ]
  },
  {
   "cell_type": "code",
   "execution_count": null,
   "id": "13bd6495",
   "metadata": {},
   "outputs": [],
   "source": [
    "automation_df.to_sql(name='Automation',con=engine,if_exists='append',index=False)"
   ]
  },
  {
   "cell_type": "code",
   "execution_count": null,
   "id": "9effaa8e",
   "metadata": {},
   "outputs": [],
   "source": []
  }
 ],
 "metadata": {
  "kernelspec": {
   "display_name": "Python 3",
   "language": "python",
   "name": "python3"
  },
  "language_info": {
   "codemirror_mode": {
    "name": "ipython",
    "version": 3
   },
   "file_extension": ".py",
   "mimetype": "text/x-python",
   "name": "python",
   "nbconvert_exporter": "python",
   "pygments_lexer": "ipython3",
   "version": "3.8.8"
  }
 },
 "nbformat": 4,
 "nbformat_minor": 5
}
