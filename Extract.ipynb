{
 "cells": [
  {
   "cell_type": "code",
   "execution_count": 1,
   "id": "581b492c",
   "metadata": {},
   "outputs": [],
   "source": [
    "import pandas as pd\n",
    "from sqlalchemy import create_engine"
   ]
  },
  {
   "cell_type": "markdown",
   "id": "4de78b5b",
   "metadata": {},
   "source": [
    "# Extract CSVs into DataFrames"
   ]
  },
  {
   "cell_type": "code",
   "execution_count": 18,
   "id": "33c85fff",
   "metadata": {},
   "outputs": [],
   "source": [
    "automate_file = \"Resources/automation_data_by_state.csv\"\n",
    "salary_file = \"Resources/occupation_salary.csv\""
   ]
  },
  {
   "cell_type": "code",
   "execution_count": 150,
   "id": "62bdfc84",
   "metadata": {},
   "outputs": [
    {
     "data": {
      "text/html": [
       "<div>\n",
       "<style scoped>\n",
       "    .dataframe tbody tr th:only-of-type {\n",
       "        vertical-align: middle;\n",
       "    }\n",
       "\n",
       "    .dataframe tbody tr th {\n",
       "        vertical-align: top;\n",
       "    }\n",
       "\n",
       "    .dataframe thead th {\n",
       "        text-align: right;\n",
       "    }\n",
       "</style>\n",
       "<table border=\"1\" class=\"dataframe\">\n",
       "  <thead>\n",
       "    <tr style=\"text-align: right;\">\n",
       "      <th></th>\n",
       "      <th>SOC</th>\n",
       "      <th>OCCUPATION</th>\n",
       "      <th>Automation_Probability</th>\n",
       "      <th>Alabama</th>\n",
       "      <th>Alaska</th>\n",
       "      <th>Arizona</th>\n",
       "      <th>Arkansas</th>\n",
       "      <th>California</th>\n",
       "      <th>Colorado</th>\n",
       "      <th>Connecticut</th>\n",
       "      <th>...</th>\n",
       "      <th>South_Dakota</th>\n",
       "      <th>Tennessee</th>\n",
       "      <th>Texas</th>\n",
       "      <th>Utah</th>\n",
       "      <th>Vermont</th>\n",
       "      <th>Virginia</th>\n",
       "      <th>Washington</th>\n",
       "      <th>West_Virginia</th>\n",
       "      <th>Wisconsin</th>\n",
       "      <th>Wyoming</th>\n",
       "    </tr>\n",
       "  </thead>\n",
       "  <tbody>\n",
       "    <tr>\n",
       "      <th>0</th>\n",
       "      <td>11-1011</td>\n",
       "      <td>Chief Executives</td>\n",
       "      <td>0.015</td>\n",
       "      <td>1030</td>\n",
       "      <td>760</td>\n",
       "      <td>5750</td>\n",
       "      <td>2710</td>\n",
       "      <td>31150</td>\n",
       "      <td>880</td>\n",
       "      <td>1410</td>\n",
       "      <td>...</td>\n",
       "      <td>560</td>\n",
       "      <td>5460</td>\n",
       "      <td>5890</td>\n",
       "      <td>3650</td>\n",
       "      <td>280</td>\n",
       "      <td>6320</td>\n",
       "      <td>5910</td>\n",
       "      <td>980</td>\n",
       "      <td>3740</td>\n",
       "      <td>160</td>\n",
       "    </tr>\n",
       "  </tbody>\n",
       "</table>\n",
       "<p>1 rows × 54 columns</p>\n",
       "</div>"
      ],
      "text/plain": [
       "       SOC        OCCUPATION  Automation_Probability  Alabama  Alaska  \\\n",
       "0  11-1011  Chief Executives                   0.015     1030     760   \n",
       "\n",
       "   Arizona  Arkansas  California  Colorado  Connecticut  ...  South_Dakota  \\\n",
       "0     5750      2710       31150       880         1410  ...           560   \n",
       "\n",
       "   Tennessee  Texas  Utah  Vermont  Virginia  Washington  West_Virginia  \\\n",
       "0       5460   5890  3650      280      6320        5910            980   \n",
       "\n",
       "   Wisconsin  Wyoming  \n",
       "0       3740      160  \n",
       "\n",
       "[1 rows x 54 columns]"
      ]
     },
     "execution_count": 150,
     "metadata": {},
     "output_type": "execute_result"
    }
   ],
   "source": [
    "automation_df = pd.read_csv(automate_file)\n",
    "automation_df.rename(columns = {\n",
    "    'District of Columbia':'District_of_Columbia',\n",
    "    'New Hampshire':'New_Hampshire',\n",
    "    'New Jersey':'New_Jersey',\n",
    "    'New Mexico':'New_Mexico',\n",
    "    'New York':'New_York',\n",
    "    'North Carolina':'North_Carolina',\n",
    "    'North Dakota':'North_Dakota',\n",
    "    'Rhode Island':'Rhode_Island',\n",
    "    'South Carolina':'South_Carolina',\n",
    "    'South Dakota':'South_Dakota',\n",
    "    'West Virginia':'West_Virginia',\n",
    "    'Occupation':'OCCUPATION',\n",
    "    'Probability':'Automation_Probability'\n",
    "},inplace=True)\n",
    "automation_df.head(1)"
   ]
  },
  {
   "cell_type": "code",
   "execution_count": 135,
   "id": "e539efcd",
   "metadata": {
    "scrolled": true
   },
   "outputs": [],
   "source": [
    "salary_df = pd.read_csv(salary_file)\n",
    "salary_df = salary_df.rename(columns={'ANNUAL':'ANNUAL_only', \n",
    "                                      \"HOURLY\":\"HOURLY_only\",\n",
    "                                      'OCC_CODE':'SOC'})\n",
    "\n",
    "bool_list = ['ANNUAL_only','HOURLY_only']\n",
    "\n",
    "salary_df[bool_list] = salary_df[bool_list].fillna(0).astype(int)\n",
    "\n",
    "salary_df[bool_list] = salary_df[bool_list].replace(True,1).astype(int)\n",
    "\n",
    "salary_df[bool_list] = salary_df[bool_list].astype(bool)"
   ]
  },
  {
   "cell_type": "code",
   "execution_count": 138,
   "id": "6de72415",
   "metadata": {},
   "outputs": [],
   "source": [
    "salary_df.replace(\",\",\"\", regex=True,inplace=True)"
   ]
  },
  {
   "cell_type": "code",
   "execution_count": 139,
   "id": "2e6ffae0",
   "metadata": {},
   "outputs": [],
   "source": [
    "integer_list = ['TOT_EMP','EMP_PRSE','H_MEAN','A_MEAN','MEAN_PRSE','H_PCT10','H_PCT25','H_MEDIAN','H_PCT75','H_PCT90','A_PCT10','A_PCT25','A_MEDIAN','A_PCT75','A_PCT90','ANNUAL_only','HOURLY_only'\n",
    "]\n",
    "salary_df = salary_df.replace('*', None)\n",
    "salary_df = salary_df.replace('**', None)\n",
    "salary_df = salary_df.replace('#', None)"
   ]
  },
  {
   "cell_type": "code",
   "execution_count": 140,
   "id": "504efe33",
   "metadata": {},
   "outputs": [],
   "source": [
    "salary_df[integer_list] = salary_df[integer_list].astype(float)"
   ]
  },
  {
   "cell_type": "code",
   "execution_count": 141,
   "id": "dadd36ed",
   "metadata": {},
   "outputs": [
    {
     "data": {
      "text/html": [
       "<div>\n",
       "<style scoped>\n",
       "    .dataframe tbody tr th:only-of-type {\n",
       "        vertical-align: middle;\n",
       "    }\n",
       "\n",
       "    .dataframe tbody tr th {\n",
       "        vertical-align: top;\n",
       "    }\n",
       "\n",
       "    .dataframe thead th {\n",
       "        text-align: right;\n",
       "    }\n",
       "</style>\n",
       "<table border=\"1\" class=\"dataframe\">\n",
       "  <thead>\n",
       "    <tr style=\"text-align: right;\">\n",
       "      <th></th>\n",
       "      <th>SOC</th>\n",
       "      <th>OCC_TITLE</th>\n",
       "      <th>OCC_GROUP</th>\n",
       "      <th>TOT_EMP</th>\n",
       "      <th>EMP_PRSE</th>\n",
       "      <th>H_MEAN</th>\n",
       "      <th>A_MEAN</th>\n",
       "      <th>MEAN_PRSE</th>\n",
       "      <th>H_PCT10</th>\n",
       "      <th>H_PCT25</th>\n",
       "      <th>H_MEDIAN</th>\n",
       "      <th>H_PCT75</th>\n",
       "      <th>H_PCT90</th>\n",
       "      <th>A_PCT10</th>\n",
       "      <th>A_PCT25</th>\n",
       "      <th>A_MEDIAN</th>\n",
       "      <th>A_PCT75</th>\n",
       "      <th>A_PCT90</th>\n",
       "      <th>ANNUAL_only</th>\n",
       "      <th>HOURLY_only</th>\n",
       "    </tr>\n",
       "  </thead>\n",
       "  <tbody>\n",
       "    <tr>\n",
       "      <th>0</th>\n",
       "      <td>00-0000</td>\n",
       "      <td>All Occupations</td>\n",
       "      <td>total</td>\n",
       "      <td>140400040.0</td>\n",
       "      <td>0.1</td>\n",
       "      <td>23.86</td>\n",
       "      <td>49630.0</td>\n",
       "      <td>0.1</td>\n",
       "      <td>9.27</td>\n",
       "      <td>11.6</td>\n",
       "      <td>17.81</td>\n",
       "      <td>28.92</td>\n",
       "      <td>45.45</td>\n",
       "      <td>19290.0</td>\n",
       "      <td>24140.0</td>\n",
       "      <td>37040.0</td>\n",
       "      <td>60150.0</td>\n",
       "      <td>94540.0</td>\n",
       "      <td>0.0</td>\n",
       "      <td>0.0</td>\n",
       "    </tr>\n",
       "  </tbody>\n",
       "</table>\n",
       "</div>"
      ],
      "text/plain": [
       "       SOC        OCC_TITLE OCC_GROUP      TOT_EMP  EMP_PRSE  H_MEAN   A_MEAN  \\\n",
       "0  00-0000  All Occupations     total  140400040.0       0.1   23.86  49630.0   \n",
       "\n",
       "   MEAN_PRSE  H_PCT10  H_PCT25  H_MEDIAN  H_PCT75  H_PCT90  A_PCT10  A_PCT25  \\\n",
       "0        0.1     9.27     11.6     17.81    28.92    45.45  19290.0  24140.0   \n",
       "\n",
       "   A_MEDIAN  A_PCT75  A_PCT90  ANNUAL_only  HOURLY_only  \n",
       "0   37040.0  60150.0  94540.0          0.0          0.0  "
      ]
     },
     "execution_count": 141,
     "metadata": {},
     "output_type": "execute_result"
    }
   ],
   "source": [
    "salary_df.head(1)"
   ]
  },
  {
   "cell_type": "code",
   "execution_count": null,
   "id": "2e278905",
   "metadata": {},
   "outputs": [],
   "source": []
  },
  {
   "cell_type": "markdown",
   "id": "f5380521",
   "metadata": {},
   "source": [
    "## Create database connection "
   ]
  },
  {
   "cell_type": "code",
   "execution_count": 145,
   "id": "2b916003",
   "metadata": {},
   "outputs": [],
   "source": [
    "conn = 'postgres:postgres@localhost:5432/labor_stats_db'\n",
    "engine = create_engine(f'postgresql://{conn}')"
   ]
  },
  {
   "cell_type": "code",
   "execution_count": 147,
   "id": "7a30cabf",
   "metadata": {},
   "outputs": [],
   "source": [
    "salary_df.to_sql(name='Salary',con=engine,if_exists='append',index=False)"
   ]
  },
  {
   "cell_type": "code",
   "execution_count": 151,
   "id": "4a69191c",
   "metadata": {},
   "outputs": [
    {
     "ename": "IntegrityError",
     "evalue": "(psycopg2.errors.ForeignKeyViolation) insert or update on table \"Automation\" violates foreign key constraint \"fk_Automation_SOC\"\nDETAIL:  Key (SOC)=(13-1078) is not present in table \"Salary\".\n\n[SQL: INSERT INTO \"Automation\" (\"SOC\", \"OCCUPATION\", \"Automation_Probability\", \"Alabama\", \"Alaska\", \"Arizona\", \"Arkansas\", \"California\", \"Colorado\", \"Connecticut\", \"Delaware\", \"District_of_Columbia\", \"Florida\", \"Georgia\", \"Hawaii\", \"Idaho\", \"Illinois\", \"Indiana\", \"Iowa\", \"Kansas\", \"Kentucky\", \"Louisiana\", \"Maine\", \"Maryland\", \"Massachusetts\", \"Michigan\", \"Minnesota\", \"Mississippi\", \"Missouri\", \"Montana\", \"Nebraska\", \"Nevada\", \"New_Hampshire\", \"New_Jersey\", \"New_Mexico\", \"New_York\", \"North_Carolina\", \"North_Dakota\", \"Ohio\", \"Oklahoma\", \"Oregon\", \"Pennsylvania\", \"Rhode_Island\", \"South_Carolina\", \"South_Dakota\", \"Tennessee\", \"Texas\", \"Utah\", \"Vermont\", \"Virginia\", \"Washington\", \"West_Virginia\", \"Wisconsin\", \"Wyoming\") VALUES (%(SOC)s, %(OCCUPATION)s, %(Automation_Probability)s, %(Alabama)s, %(Alaska)s, %(Arizona)s, %(Arkansas)s, %(California)s, %(Colorado)s, %(Connecticut)s, %(Delaware)s, %(District_of_Columbia)s, %(Florida)s, %(Georgia)s, %(Hawaii)s, %(Idaho)s, %(Illinois)s, %(Indiana)s, %(Iowa)s, %(Kansas)s, %(Kentucky)s, %(Louisiana)s, %(Maine)s, %(Maryland)s, %(Massachusetts)s, %(Michigan)s, %(Minnesota)s, %(Mississippi)s, %(Missouri)s, %(Montana)s, %(Nebraska)s, %(Nevada)s, %(New_Hampshire)s, %(New_Jersey)s, %(New_Mexico)s, %(New_York)s, %(North_Carolina)s, %(North_Dakota)s, %(Ohio)s, %(Oklahoma)s, %(Oregon)s, %(Pennsylvania)s, %(Rhode_Island)s, %(South_Carolina)s, %(South_Dakota)s, %(Tennessee)s, %(Texas)s, %(Utah)s, %(Vermont)s, %(Virginia)s, %(Washington)s, %(West_Virginia)s, %(Wisconsin)s, %(Wyoming)s)]\n[parameters: ({'SOC': '11-1011', 'OCCUPATION': 'Chief Executives', 'Automation_Probability': 0.015, 'Alabama': 1030, 'Alaska': 760, 'Arizona': 5750, 'Arkansas': 2710, 'California': 31150, 'Colorado': 880, 'Connecticut': 1410, 'Delaware': 340, 'District_of_Columbia': 2840, 'Florida': 14120, 'Georgia': 6750, 'Hawaii': 1840, 'Idaho': 1400, 'Illinois': 17440, 'Indiana': 4950, 'Iowa': 2050, 'Kansas': 4410, 'Kentucky': 3440, 'Louisiana': 1010, 'Maine': 920, 'Maryland': 1800, 'Massachusetts': 11020, 'Michigan': 6260, 'Minnesota': 7490, 'Mississippi': 940, 'Missouri': 5180, 'Montana': 600, 'Nebraska': 690, 'Nevada': 1410, 'New_Hampshire': 940, 'New_Jersey': 700, 'New_Mexico': 70, 'New_York': 15410, 'North_Carolina': 4310, 'North_Dakota': 920, 'Ohio': 5340, 'Oklahoma': 6370, 'Oregon': 2650, 'Pennsylvania': 9230, 'Rhode_Island': 390, 'South_Carolina': 3400, 'South_Dakota': 560, 'Tennessee': 5460, 'Texas': 5890, 'Utah': 3650, 'Vermont': 280, 'Virginia': 6320, 'Washington': 5910, 'West_Virginia': 980, 'Wisconsin': 3740, 'Wyoming': 160}, {'SOC': '11-1021', 'OCCUPATION': 'General and Operations Managers', 'Automation_Probability': 0.16, 'Alabama': 26930, 'Alaska': 6490, 'Arizona': 43300, 'Arkansas': 20680, 'California': 261780, 'Colorado': 41540, 'Connecticut': 33280, 'Delaware': 4080, 'District_of_Columbia': 26610, 'Florida': 77340, 'Georgia': 90520, 'Hawaii': 11070, 'Idaho': 12250, 'Illinois': 121040, 'Indiana': 49210, 'Iowa': 25900, 'Kansas': 19620, 'Kentucky': 26190, 'Louisiana': 29920, 'Maine': 12360, 'Maryland': 47850, 'Massachusetts': 71880, 'Michigan': 58040, 'Minnesota': 41480, 'Mississippi': 24110, 'Missouri': 41440, 'Montana': 4490, 'Nebraska': 14420, 'Nevada': 17480, 'New_Hampshire': 11030, 'New_Jersey': 44800, 'New_Mexico': 15550, 'New_York': 162870, 'North_Carolina': 53770, 'North_Dakota': 7010, 'Ohio': 64710, 'Oklahoma': 27400, 'Oregon': 32350, 'Pennsylvania': 70430, 'Rhode_Island': 6640, 'South_Carolina': 31780, 'South_Dakota': 3730, 'Tennessee': 44400, 'Texas': 168610, 'Utah': 36200, 'Vermont': 2760, 'Virginia': 52380, 'Washington': 43760, 'West_Virginia': 10200, 'Wisconsin': 32350, 'Wyoming': 4840}, {'SOC': '11-2011', 'OCCUPATION': 'Advertising and Promotions Managers', 'Automation_Probability': 0.039, 'Alabama': 50, 'Alaska': 40, 'Arizona': 470, 'Arkansas': 110, 'California': 3760, 'Colorado': 480, 'Connecticut': 300, 'Delaware': 0, 'District_of_Columbia': 220, 'Florida': 750, 'Georgia': 820, 'Hawaii': 200, 'Idaho': 160, 'Illinois': 3670, 'Indiana': 290, 'Iowa': 230, 'Kansas': 230, 'Kentucky': 270, 'Louisiana': 320, 'Maine': 130, 'Maryland': 460, 'Massachusetts': 1290, 'Michigan': 650, 'Minnesota': 610, 'Mississippi': 150, 'Missouri': 390, 'Montana': 30, 'Nebraska': 80, 'Nevada': 280, 'New_Hampshire': 150, 'New_Jersey': 630, 'New_Mexico': 190, 'New_York': 5130, 'North_Carolina': 450, 'North_Dakota': 70, 'Ohio': 460, 'Oklahoma': 200, 'Oregon': 0, 'Pennsylvania': 570, 'Rhode_Island': 100, 'South_Carolina': 270, 'South_Dakota': 0, 'Tennessee': 670, 'Texas': 1210, 'Utah': 380, 'Vermont': 40, 'Virginia': 240, 'Washington': 640, 'West_Virginia': 40, 'Wisconsin': 200, 'Wyoming': 0}, {'SOC': '11-2021', 'OCCUPATION': 'Marketing Managers', 'Automation_Probability': 0.014, 'Alabama': 530, 'Alaska': 200, 'Arizona': 4790, 'Arkansas': 1090, 'California': 33390, 'Colorado': 3060, 'Connecticut': 4970, 'Delaware': 590, 'District_of_Columbia': 1280, 'Florida': 7600, 'Georgia': 7140, 'Hawaii': 540, 'Idaho': 860, 'Illinois': 14030, 'Indiana': 2870, 'Iowa': 1920, 'Kansas': 1470, 'Kentucky': 1490, 'Louisiana': 920, 'Maine': 810, 'Maryland': 2980, 'Massachusetts': 11790, 'Michigan': 3870, 'Minnesota': 7800, 'Mississippi': 470, 'Missouri': 2590, 'Montana': 130, 'Nebraska': 1060, 'Nevada': 1640, 'New_Hampshire': 1170, 'New_Jersey': 11260, 'New_Mexico': 350, 'New_York': 16500, 'North_Carolina': 5650, 'North_Dakota': 310, 'Ohio': 5350, 'Oklahoma': 1420, 'Oregon': 4830, 'Pennsylvania': 6250, 'Rhode_Island': 550, 'South_Carolina': 1710, 'South_Dakota': 60, 'Tennessee': 3400, 'Texas': 9570, 'Utah': 2320, 'Vermont': 380, 'Virginia': 3840, 'Washington': 5830, 'West_Virginia': 260, 'Wisconsin': 2980, 'Wyoming': 30}, {'SOC': '11-2022', 'OCCUPATION': 'Sales Managers', 'Automation_Probability': 0.013, 'Alabama': 2510, 'Alaska': 400, 'Arizona': 10650, 'Arkansas': 2650, 'California': 69180, 'Colorado': 4570, 'Connecticut': 7040, 'Delaware': 860, 'District_of_Columbia': 1180, 'Florida': 13560, 'Georgia': 15460, 'Hawaii': 2470, 'Idaho': 2200, 'Illinois': 24150, 'Indiana': 5770, 'Iowa': 3350, 'Kansas': 3250, 'Kentucky': 3420, 'Louisiana': 3560, 'Maine': 980, 'Maryland': 5230, 'Massachusetts': 14860, 'Michigan': 10090, 'Minnesota': 12590, 'Mississippi': 1460, 'Missouri': 5480, 'Montana': 190, 'Nebraska': 1930, 'Nevada': 3350, 'New_Hampshire': 1750, 'New_Jersey': 12840, 'New_Mexico': 1200, 'New_York': 20170, 'North_Carolina': 6750, 'North_Dakota': 710, 'Ohio': 11410, 'Oklahoma': 3890, 'Oregon': 6220, 'Pennsylvania': 8930, 'Rhode_Island': 850, 'South_Carolina': 3540, 'South_Dakota': 300, 'Tennessee': 8890, 'Texas': 22310, 'Utah': 3360, 'Vermont': 480, 'Virginia': 5360, 'Washington': 7390, 'West_Virginia': 600, 'Wisconsin': 5730, 'Wyoming': 180}, {'SOC': '11-2031', 'OCCUPATION': 'Public Relations and Fundraising Managers', 'Automation_Probability': 0.015, 'Alabama': 400, 'Alaska': 150, 'Arizona': 1240, 'Arkansas': 300, 'California': 7010, 'Colorado': 960, 'Connecticut': 980, 'Delaware': 210, 'District_of_Columbia': 4360, 'Florida': 1710, 'Georgia': 1470, 'Hawaii': 360, 'Idaho': 200, 'Illinois': 3830, 'Indiana': 870, 'Iowa': 960, 'Kansas': 480, 'Kentucky': 630, 'Louisiana': 310, 'Maine': 420, 'Maryland': 1350, 'Massachusetts': 4200, 'Michigan': 1300, 'Minnesota': 1880, 'Mississippi': 270, 'Missouri': 1020, 'Montana': 140, 'Nebraska': 580, 'Nevada': 470, 'New_Hampshire': 470, 'New_Jersey': 1900, 'New_Mexico': 180, 'New_York': 6040, 'North_Carolina': 1100, 'North_Dakota': 170, 'Ohio': 1790, 'Oklahoma': 720, 'Oregon': 1470, 'Pennsylvania': 1640, 'Rhode_Island': 260, 'South_Carolina': 520, 'South_Dakota': 0, 'Tennessee': 870, 'Texas': 3680, 'Utah': 380, 'Vermont': 210, 'Virginia': 1250, 'Washington': 2100, 'West_Virginia': 130, 'Wisconsin': 1010, 'Wyoming': 0}, {'SOC': '11-3011', 'OCCUPATION': 'Administrative Services Managers', 'Automation_Probability': 0.73, 'Alabama': 640, 'Alaska': 530, 'Arizona': 6870, 'Arkansas': 1850, 'California': 40720, 'Colorado': 2280, 'Connecticut': 4110, 'Delaware': 820, 'District_of_Columbia': 1770, 'Florida': 10710, 'Georgia': 9040, 'Hawaii': 1480, 'Idaho': 1400, 'Illinois': 14450, 'Indiana': 3450, 'Iowa': 2240, 'Kansas': 2560, 'Kentucky': 2580, 'Louisiana': 2980, 'Maine': 1580, 'Maryland': 5060, 'Massachusetts': 13040, 'Michigan': 6110, 'Minnesota': 6930, 'Mississippi': 3040, 'Missouri': 5350, 'Montana': 320, 'Nebraska': 1890, 'Nevada': 1450, 'New_Hampshire': 860, 'New_Jersey': 8510, 'New_Mexico': 1690, 'New_York': 18480, 'North_Carolina': 4630, 'North_Dakota': 660, 'Ohio': 9620, 'Oklahoma': 4630, 'Oregon': 3550, 'Pennsylvania': 6860, 'Rhode_Island': 670, 'South_Carolina': 3110, 'South_Dakota': 340, 'Tennessee': 7550, 'Texas': 20440, 'Utah': 2120, 'Vermont': 410, 'Virginia': 4120, 'Washington': 4890, 'West_Virginia': 1590, 'Wisconsin': 6070, 'Wyoming': 220}, {'SOC': '11-3021', 'OCCUPATION': 'Computer and Information Systems Managers', 'Automation_Probability': 0.035, 'Alabama': 3260, 'Alaska': 340, 'Arizona': 6720, 'Arkansas': 2100, 'California': 51840, 'Colorado': 6340, 'Connecticut': 7900, 'Delaware': 1260, 'District_of_Columbia': 3850, 'Florida': 11460, 'Georgia': 12520, 'Hawaii': 640, 'Idaho': 1130, 'Illinois': 15740, 'Indiana': 4630, 'Iowa': 3450, 'Kansas': 2910, 'Kentucky': 2440, 'Louisiana': 1930, 'Maine': 1430, 'Maryland': 9270, 'Massachusetts': 15540, 'Michigan': 8730, 'Minnesota': 10150, 'Mississippi': 1170, 'Missouri': 6090, 'Montana': 460, 'Nebraska': 1910, 'Nevada': 1350, 'New_Hampshire': 1930, 'New_Jersey': 13930, 'New_Mexico': 1110, 'New_York': 26000, 'North_Carolina': 11970, 'North_Dakota': 530, 'Ohio': 13040, 'Oklahoma': 3170, 'Oregon': 4850, 'Pennsylvania': 12150, 'Rhode_Island': 1160, 'South_Carolina': 3020, 'South_Dakota': 210, 'Tennessee': 5540, 'Texas': 20010, 'Utah': 4190, 'Vermont': 340, 'Virginia': 13720, 'Washington': 11790, 'West_Virginia': 720, 'Wisconsin': 6400, 'Wyoming': 200}  ... displaying 10 of 702 total bound parameter sets ...  {'SOC': '53-7111', 'OCCUPATION': 'Mine Shuttle Car Operators', 'Automation_Probability': 0.37, 'Alabama': 50, 'Alaska': 0, 'Arizona': 0, 'Arkansas': 0, 'California': 0, 'Colorado': 70, 'Connecticut': 0, 'Delaware': 0, 'District_of_Columbia': 0, 'Florida': 0, 'Georgia': 0, 'Hawaii': 0, 'Idaho': 0, 'Illinois': 160, 'Indiana': 40, 'Iowa': 0, 'Kansas': 0, 'Kentucky': 360, 'Louisiana': 0, 'Maine': 0, 'Maryland': 0, 'Massachusetts': 0, 'Michigan': 0, 'Minnesota': 0, 'Mississippi': 0, 'Missouri': 0, 'Montana': 0, 'Nebraska': 0, 'Nevada': 0, 'New_Hampshire': 0, 'New_Jersey': 0, 'New_Mexico': 0, 'New_York': 0, 'North_Carolina': 0, 'North_Dakota': 0, 'Ohio': 0, 'Oklahoma': 0, 'Oregon': 0, 'Pennsylvania': 180, 'Rhode_Island': 0, 'South_Carolina': 0, 'South_Dakota': 0, 'Tennessee': 0, 'Texas': 0, 'Utah': 0, 'Vermont': 0, 'Virginia': 0, 'Washington': 0, 'West_Virginia': 510, 'Wisconsin': 0, 'Wyoming': 0}, {'SOC': '53-7121', 'OCCUPATION': 'Tank Car; Truck; and Ship Loaders', 'Automation_Probability': 0.72, 'Alabama': 600, 'Alaska': 80, 'Arizona': 110, 'Arkansas': 50, 'California': 360, 'Colorado': 80, 'Connecticut': 0, 'Delaware': 0, 'District_of_Columbia': 0, 'Florida': 270, 'Georgia': 350, 'Hawaii': 0, 'Idaho': 0, 'Illinois': 230, 'Indiana': 230, 'Iowa': 100, 'Kansas': 60, 'Kentucky': 300, 'Louisiana': 890, 'Maine': 0, 'Maryland': 50, 'Massachusetts': 70, 'Michigan': 40, 'Minnesota': 130, 'Mississippi': 340, 'Missouri': 60, 'Montana': 0, 'Nebraska': 50, 'Nevada': 0, 'New_Hampshire': 0, 'New_Jersey': 500, 'New_Mexico': 40, 'New_York': 60, 'North_Carolina': 0, 'North_Dakota': 190, 'Ohio': 260, 'Oklahoma': 260, 'Oregon': 320, 'Pennsylvania': 160, 'Rhode_Island': 0, 'South_Carolina': 0, 'South_Dakota': 0, 'Tennessee': 190, 'Texas': 3250, 'Utah': 0, 'Vermont': 0, 'Virginia': 180, 'Washington': 350, 'West_Virginia': 0, 'Wisconsin': 190, 'Wyoming': 80})]\n(Background on this error at: http://sqlalche.me/e/14/gkpj)",
     "output_type": "error",
     "traceback": [
      "\u001b[1;31m---------------------------------------------------------------------------\u001b[0m",
      "\u001b[1;31mForeignKeyViolation\u001b[0m                       Traceback (most recent call last)",
      "\u001b[1;32m~\\anaconda3\\lib\\site-packages\\sqlalchemy\\engine\\base.py\u001b[0m in \u001b[0;36m_execute_context\u001b[1;34m(self, dialect, constructor, statement, parameters, execution_options, *args, **kw)\u001b[0m\n\u001b[0;32m   1684\u001b[0m                 \u001b[1;32mif\u001b[0m \u001b[1;32mnot\u001b[0m \u001b[0mevt_handled\u001b[0m\u001b[1;33m:\u001b[0m\u001b[1;33m\u001b[0m\u001b[1;33m\u001b[0m\u001b[0m\n\u001b[1;32m-> 1685\u001b[1;33m                     self.dialect.do_executemany(\n\u001b[0m\u001b[0;32m   1686\u001b[0m                         \u001b[0mcursor\u001b[0m\u001b[1;33m,\u001b[0m \u001b[0mstatement\u001b[0m\u001b[1;33m,\u001b[0m \u001b[0mparameters\u001b[0m\u001b[1;33m,\u001b[0m \u001b[0mcontext\u001b[0m\u001b[1;33m\u001b[0m\u001b[1;33m\u001b[0m\u001b[0m\n",
      "\u001b[1;32m~\\anaconda3\\lib\\site-packages\\sqlalchemy\\dialects\\postgresql\\psycopg2.py\u001b[0m in \u001b[0;36mdo_executemany\u001b[1;34m(self, cursor, statement, parameters, context)\u001b[0m\n\u001b[0;32m    902\u001b[0m             \u001b[0mxtras\u001b[0m \u001b[1;33m=\u001b[0m \u001b[0mself\u001b[0m\u001b[1;33m.\u001b[0m\u001b[0m_psycopg2_extras\u001b[0m\u001b[1;33m(\u001b[0m\u001b[1;33m)\u001b[0m\u001b[1;33m\u001b[0m\u001b[1;33m\u001b[0m\u001b[0m\n\u001b[1;32m--> 903\u001b[1;33m             context._psycopg2_fetched_rows = xtras.execute_values(\n\u001b[0m\u001b[0;32m    904\u001b[0m                 \u001b[0mcursor\u001b[0m\u001b[1;33m,\u001b[0m\u001b[1;33m\u001b[0m\u001b[1;33m\u001b[0m\u001b[0m\n",
      "\u001b[1;32m~\\anaconda3\\lib\\site-packages\\psycopg2\\extras.py\u001b[0m in \u001b[0;36mexecute_values\u001b[1;34m(cur, sql, argslist, template, page_size, fetch)\u001b[0m\n\u001b[0;32m   1269\u001b[0m         \u001b[0mparts\u001b[0m\u001b[1;33m[\u001b[0m\u001b[1;33m-\u001b[0m\u001b[1;36m1\u001b[0m\u001b[1;33m:\u001b[0m\u001b[1;33m]\u001b[0m \u001b[1;33m=\u001b[0m \u001b[0mpost\u001b[0m\u001b[1;33m\u001b[0m\u001b[1;33m\u001b[0m\u001b[0m\n\u001b[1;32m-> 1270\u001b[1;33m         \u001b[0mcur\u001b[0m\u001b[1;33m.\u001b[0m\u001b[0mexecute\u001b[0m\u001b[1;33m(\u001b[0m\u001b[1;34mb''\u001b[0m\u001b[1;33m.\u001b[0m\u001b[0mjoin\u001b[0m\u001b[1;33m(\u001b[0m\u001b[0mparts\u001b[0m\u001b[1;33m)\u001b[0m\u001b[1;33m)\u001b[0m\u001b[1;33m\u001b[0m\u001b[1;33m\u001b[0m\u001b[0m\n\u001b[0m\u001b[0;32m   1271\u001b[0m         \u001b[1;32mif\u001b[0m \u001b[0mfetch\u001b[0m\u001b[1;33m:\u001b[0m\u001b[1;33m\u001b[0m\u001b[1;33m\u001b[0m\u001b[0m\n",
      "\u001b[1;31mForeignKeyViolation\u001b[0m: insert or update on table \"Automation\" violates foreign key constraint \"fk_Automation_SOC\"\nDETAIL:  Key (SOC)=(13-1078) is not present in table \"Salary\".\n",
      "\nThe above exception was the direct cause of the following exception:\n",
      "\u001b[1;31mIntegrityError\u001b[0m                            Traceback (most recent call last)",
      "\u001b[1;32m<ipython-input-151-f64c2dd8c744>\u001b[0m in \u001b[0;36m<module>\u001b[1;34m\u001b[0m\n\u001b[1;32m----> 1\u001b[1;33m \u001b[0mautomation_df\u001b[0m\u001b[1;33m.\u001b[0m\u001b[0mto_sql\u001b[0m\u001b[1;33m(\u001b[0m\u001b[0mname\u001b[0m\u001b[1;33m=\u001b[0m\u001b[1;34m'Automation'\u001b[0m\u001b[1;33m,\u001b[0m\u001b[0mcon\u001b[0m\u001b[1;33m=\u001b[0m\u001b[0mengine\u001b[0m\u001b[1;33m,\u001b[0m\u001b[0mif_exists\u001b[0m\u001b[1;33m=\u001b[0m\u001b[1;34m'append'\u001b[0m\u001b[1;33m,\u001b[0m\u001b[0mindex\u001b[0m\u001b[1;33m=\u001b[0m\u001b[1;32mFalse\u001b[0m\u001b[1;33m)\u001b[0m\u001b[1;33m\u001b[0m\u001b[1;33m\u001b[0m\u001b[0m\n\u001b[0m",
      "\u001b[1;32m~\\anaconda3\\lib\\site-packages\\pandas\\core\\generic.py\u001b[0m in \u001b[0;36mto_sql\u001b[1;34m(self, name, con, schema, if_exists, index, index_label, chunksize, dtype, method)\u001b[0m\n\u001b[0;32m   2777\u001b[0m         \u001b[1;32mfrom\u001b[0m \u001b[0mpandas\u001b[0m\u001b[1;33m.\u001b[0m\u001b[0mio\u001b[0m \u001b[1;32mimport\u001b[0m \u001b[0msql\u001b[0m\u001b[1;33m\u001b[0m\u001b[1;33m\u001b[0m\u001b[0m\n\u001b[0;32m   2778\u001b[0m \u001b[1;33m\u001b[0m\u001b[0m\n\u001b[1;32m-> 2779\u001b[1;33m         sql.to_sql(\n\u001b[0m\u001b[0;32m   2780\u001b[0m             \u001b[0mself\u001b[0m\u001b[1;33m,\u001b[0m\u001b[1;33m\u001b[0m\u001b[1;33m\u001b[0m\u001b[0m\n\u001b[0;32m   2781\u001b[0m             \u001b[0mname\u001b[0m\u001b[1;33m,\u001b[0m\u001b[1;33m\u001b[0m\u001b[1;33m\u001b[0m\u001b[0m\n",
      "\u001b[1;32m~\\anaconda3\\lib\\site-packages\\pandas\\io\\sql.py\u001b[0m in \u001b[0;36mto_sql\u001b[1;34m(frame, name, con, schema, if_exists, index, index_label, chunksize, dtype, method)\u001b[0m\n\u001b[0;32m    599\u001b[0m         )\n\u001b[0;32m    600\u001b[0m \u001b[1;33m\u001b[0m\u001b[0m\n\u001b[1;32m--> 601\u001b[1;33m     pandas_sql.to_sql(\n\u001b[0m\u001b[0;32m    602\u001b[0m         \u001b[0mframe\u001b[0m\u001b[1;33m,\u001b[0m\u001b[1;33m\u001b[0m\u001b[1;33m\u001b[0m\u001b[0m\n\u001b[0;32m    603\u001b[0m         \u001b[0mname\u001b[0m\u001b[1;33m,\u001b[0m\u001b[1;33m\u001b[0m\u001b[1;33m\u001b[0m\u001b[0m\n",
      "\u001b[1;32m~\\anaconda3\\lib\\site-packages\\pandas\\io\\sql.py\u001b[0m in \u001b[0;36mto_sql\u001b[1;34m(self, frame, name, if_exists, index, index_label, schema, chunksize, dtype, method)\u001b[0m\n\u001b[0;32m   1417\u001b[0m                 \u001b[1;32mraise\u001b[0m \u001b[0mValueError\u001b[0m\u001b[1;33m(\u001b[0m\u001b[1;34m\"inf cannot be used with MySQL\"\u001b[0m\u001b[1;33m)\u001b[0m \u001b[1;32mfrom\u001b[0m \u001b[0merr\u001b[0m\u001b[1;33m\u001b[0m\u001b[1;33m\u001b[0m\u001b[0m\n\u001b[0;32m   1418\u001b[0m             \u001b[1;32melse\u001b[0m\u001b[1;33m:\u001b[0m\u001b[1;33m\u001b[0m\u001b[1;33m\u001b[0m\u001b[0m\n\u001b[1;32m-> 1419\u001b[1;33m                 \u001b[1;32mraise\u001b[0m \u001b[0merr\u001b[0m\u001b[1;33m\u001b[0m\u001b[1;33m\u001b[0m\u001b[0m\n\u001b[0m\u001b[0;32m   1420\u001b[0m \u001b[1;33m\u001b[0m\u001b[0m\n\u001b[0;32m   1421\u001b[0m         \u001b[1;32mif\u001b[0m \u001b[1;32mnot\u001b[0m \u001b[0mname\u001b[0m\u001b[1;33m.\u001b[0m\u001b[0misdigit\u001b[0m\u001b[1;33m(\u001b[0m\u001b[1;33m)\u001b[0m \u001b[1;32mand\u001b[0m \u001b[1;32mnot\u001b[0m \u001b[0mname\u001b[0m\u001b[1;33m.\u001b[0m\u001b[0mislower\u001b[0m\u001b[1;33m(\u001b[0m\u001b[1;33m)\u001b[0m\u001b[1;33m:\u001b[0m\u001b[1;33m\u001b[0m\u001b[1;33m\u001b[0m\u001b[0m\n",
      "\u001b[1;32m~\\anaconda3\\lib\\site-packages\\pandas\\io\\sql.py\u001b[0m in \u001b[0;36mto_sql\u001b[1;34m(self, frame, name, if_exists, index, index_label, schema, chunksize, dtype, method)\u001b[0m\n\u001b[0;32m   1409\u001b[0m \u001b[1;33m\u001b[0m\u001b[0m\n\u001b[0;32m   1410\u001b[0m         \u001b[1;32mtry\u001b[0m\u001b[1;33m:\u001b[0m\u001b[1;33m\u001b[0m\u001b[1;33m\u001b[0m\u001b[0m\n\u001b[1;32m-> 1411\u001b[1;33m             \u001b[0mtable\u001b[0m\u001b[1;33m.\u001b[0m\u001b[0minsert\u001b[0m\u001b[1;33m(\u001b[0m\u001b[0mchunksize\u001b[0m\u001b[1;33m,\u001b[0m \u001b[0mmethod\u001b[0m\u001b[1;33m=\u001b[0m\u001b[0mmethod\u001b[0m\u001b[1;33m)\u001b[0m\u001b[1;33m\u001b[0m\u001b[1;33m\u001b[0m\u001b[0m\n\u001b[0m\u001b[0;32m   1412\u001b[0m         \u001b[1;32mexcept\u001b[0m \u001b[0mexc\u001b[0m\u001b[1;33m.\u001b[0m\u001b[0mSQLAlchemyError\u001b[0m \u001b[1;32mas\u001b[0m \u001b[0merr\u001b[0m\u001b[1;33m:\u001b[0m\u001b[1;33m\u001b[0m\u001b[1;33m\u001b[0m\u001b[0m\n\u001b[0;32m   1413\u001b[0m             \u001b[1;31m# GH34431\u001b[0m\u001b[1;33m\u001b[0m\u001b[1;33m\u001b[0m\u001b[1;33m\u001b[0m\u001b[0m\n",
      "\u001b[1;32m~\\anaconda3\\lib\\site-packages\\pandas\\io\\sql.py\u001b[0m in \u001b[0;36minsert\u001b[1;34m(self, chunksize, method)\u001b[0m\n\u001b[0;32m    843\u001b[0m \u001b[1;33m\u001b[0m\u001b[0m\n\u001b[0;32m    844\u001b[0m                 \u001b[0mchunk_iter\u001b[0m \u001b[1;33m=\u001b[0m \u001b[0mzip\u001b[0m\u001b[1;33m(\u001b[0m\u001b[1;33m*\u001b[0m\u001b[1;33m[\u001b[0m\u001b[0marr\u001b[0m\u001b[1;33m[\u001b[0m\u001b[0mstart_i\u001b[0m\u001b[1;33m:\u001b[0m\u001b[0mend_i\u001b[0m\u001b[1;33m]\u001b[0m \u001b[1;32mfor\u001b[0m \u001b[0marr\u001b[0m \u001b[1;32min\u001b[0m \u001b[0mdata_list\u001b[0m\u001b[1;33m]\u001b[0m\u001b[1;33m)\u001b[0m\u001b[1;33m\u001b[0m\u001b[1;33m\u001b[0m\u001b[0m\n\u001b[1;32m--> 845\u001b[1;33m                 \u001b[0mexec_insert\u001b[0m\u001b[1;33m(\u001b[0m\u001b[0mconn\u001b[0m\u001b[1;33m,\u001b[0m \u001b[0mkeys\u001b[0m\u001b[1;33m,\u001b[0m \u001b[0mchunk_iter\u001b[0m\u001b[1;33m)\u001b[0m\u001b[1;33m\u001b[0m\u001b[1;33m\u001b[0m\u001b[0m\n\u001b[0m\u001b[0;32m    846\u001b[0m \u001b[1;33m\u001b[0m\u001b[0m\n\u001b[0;32m    847\u001b[0m     def _query_iterator(\n",
      "\u001b[1;32m~\\anaconda3\\lib\\site-packages\\pandas\\io\\sql.py\u001b[0m in \u001b[0;36m_execute_insert\u001b[1;34m(self, conn, keys, data_iter)\u001b[0m\n\u001b[0;32m    760\u001b[0m         \"\"\"\n\u001b[0;32m    761\u001b[0m         \u001b[0mdata\u001b[0m \u001b[1;33m=\u001b[0m \u001b[1;33m[\u001b[0m\u001b[0mdict\u001b[0m\u001b[1;33m(\u001b[0m\u001b[0mzip\u001b[0m\u001b[1;33m(\u001b[0m\u001b[0mkeys\u001b[0m\u001b[1;33m,\u001b[0m \u001b[0mrow\u001b[0m\u001b[1;33m)\u001b[0m\u001b[1;33m)\u001b[0m \u001b[1;32mfor\u001b[0m \u001b[0mrow\u001b[0m \u001b[1;32min\u001b[0m \u001b[0mdata_iter\u001b[0m\u001b[1;33m]\u001b[0m\u001b[1;33m\u001b[0m\u001b[1;33m\u001b[0m\u001b[0m\n\u001b[1;32m--> 762\u001b[1;33m         \u001b[0mconn\u001b[0m\u001b[1;33m.\u001b[0m\u001b[0mexecute\u001b[0m\u001b[1;33m(\u001b[0m\u001b[0mself\u001b[0m\u001b[1;33m.\u001b[0m\u001b[0mtable\u001b[0m\u001b[1;33m.\u001b[0m\u001b[0minsert\u001b[0m\u001b[1;33m(\u001b[0m\u001b[1;33m)\u001b[0m\u001b[1;33m,\u001b[0m \u001b[0mdata\u001b[0m\u001b[1;33m)\u001b[0m\u001b[1;33m\u001b[0m\u001b[1;33m\u001b[0m\u001b[0m\n\u001b[0m\u001b[0;32m    763\u001b[0m \u001b[1;33m\u001b[0m\u001b[0m\n\u001b[0;32m    764\u001b[0m     \u001b[1;32mdef\u001b[0m \u001b[0m_execute_insert_multi\u001b[0m\u001b[1;33m(\u001b[0m\u001b[0mself\u001b[0m\u001b[1;33m,\u001b[0m \u001b[0mconn\u001b[0m\u001b[1;33m,\u001b[0m \u001b[0mkeys\u001b[0m\u001b[1;33m,\u001b[0m \u001b[0mdata_iter\u001b[0m\u001b[1;33m)\u001b[0m\u001b[1;33m:\u001b[0m\u001b[1;33m\u001b[0m\u001b[1;33m\u001b[0m\u001b[0m\n",
      "\u001b[1;32m~\\anaconda3\\lib\\site-packages\\sqlalchemy\\engine\\base.py\u001b[0m in \u001b[0;36mexecute\u001b[1;34m(self, statement, *multiparams, **params)\u001b[0m\n\u001b[0;32m   1198\u001b[0m             )\n\u001b[0;32m   1199\u001b[0m         \u001b[1;32melse\u001b[0m\u001b[1;33m:\u001b[0m\u001b[1;33m\u001b[0m\u001b[1;33m\u001b[0m\u001b[0m\n\u001b[1;32m-> 1200\u001b[1;33m             \u001b[1;32mreturn\u001b[0m \u001b[0mmeth\u001b[0m\u001b[1;33m(\u001b[0m\u001b[0mself\u001b[0m\u001b[1;33m,\u001b[0m \u001b[0mmultiparams\u001b[0m\u001b[1;33m,\u001b[0m \u001b[0mparams\u001b[0m\u001b[1;33m,\u001b[0m \u001b[0m_EMPTY_EXECUTION_OPTS\u001b[0m\u001b[1;33m)\u001b[0m\u001b[1;33m\u001b[0m\u001b[1;33m\u001b[0m\u001b[0m\n\u001b[0m\u001b[0;32m   1201\u001b[0m \u001b[1;33m\u001b[0m\u001b[0m\n\u001b[0;32m   1202\u001b[0m     \u001b[1;32mdef\u001b[0m \u001b[0m_execute_function\u001b[0m\u001b[1;33m(\u001b[0m\u001b[0mself\u001b[0m\u001b[1;33m,\u001b[0m \u001b[0mfunc\u001b[0m\u001b[1;33m,\u001b[0m \u001b[0mmultiparams\u001b[0m\u001b[1;33m,\u001b[0m \u001b[0mparams\u001b[0m\u001b[1;33m,\u001b[0m \u001b[0mexecution_options\u001b[0m\u001b[1;33m)\u001b[0m\u001b[1;33m:\u001b[0m\u001b[1;33m\u001b[0m\u001b[1;33m\u001b[0m\u001b[0m\n",
      "\u001b[1;32m~\\anaconda3\\lib\\site-packages\\sqlalchemy\\sql\\elements.py\u001b[0m in \u001b[0;36m_execute_on_connection\u001b[1;34m(self, connection, multiparams, params, execution_options, _force)\u001b[0m\n\u001b[0;32m    311\u001b[0m     ):\n\u001b[0;32m    312\u001b[0m         \u001b[1;32mif\u001b[0m \u001b[0m_force\u001b[0m \u001b[1;32mor\u001b[0m \u001b[0mself\u001b[0m\u001b[1;33m.\u001b[0m\u001b[0msupports_execution\u001b[0m\u001b[1;33m:\u001b[0m\u001b[1;33m\u001b[0m\u001b[1;33m\u001b[0m\u001b[0m\n\u001b[1;32m--> 313\u001b[1;33m             return connection._execute_clauseelement(\n\u001b[0m\u001b[0;32m    314\u001b[0m                 \u001b[0mself\u001b[0m\u001b[1;33m,\u001b[0m \u001b[0mmultiparams\u001b[0m\u001b[1;33m,\u001b[0m \u001b[0mparams\u001b[0m\u001b[1;33m,\u001b[0m \u001b[0mexecution_options\u001b[0m\u001b[1;33m\u001b[0m\u001b[1;33m\u001b[0m\u001b[0m\n\u001b[0;32m    315\u001b[0m             )\n",
      "\u001b[1;32m~\\anaconda3\\lib\\site-packages\\sqlalchemy\\engine\\base.py\u001b[0m in \u001b[0;36m_execute_clauseelement\u001b[1;34m(self, elem, multiparams, params, execution_options)\u001b[0m\n\u001b[0;32m   1387\u001b[0m             \u001b[0mlinting\u001b[0m\u001b[1;33m=\u001b[0m\u001b[0mself\u001b[0m\u001b[1;33m.\u001b[0m\u001b[0mdialect\u001b[0m\u001b[1;33m.\u001b[0m\u001b[0mcompiler_linting\u001b[0m \u001b[1;33m|\u001b[0m \u001b[0mcompiler\u001b[0m\u001b[1;33m.\u001b[0m\u001b[0mWARN_LINTING\u001b[0m\u001b[1;33m,\u001b[0m\u001b[1;33m\u001b[0m\u001b[1;33m\u001b[0m\u001b[0m\n\u001b[0;32m   1388\u001b[0m         )\n\u001b[1;32m-> 1389\u001b[1;33m         ret = self._execute_context(\n\u001b[0m\u001b[0;32m   1390\u001b[0m             \u001b[0mdialect\u001b[0m\u001b[1;33m,\u001b[0m\u001b[1;33m\u001b[0m\u001b[1;33m\u001b[0m\u001b[0m\n\u001b[0;32m   1391\u001b[0m             \u001b[0mdialect\u001b[0m\u001b[1;33m.\u001b[0m\u001b[0mexecution_ctx_cls\u001b[0m\u001b[1;33m.\u001b[0m\u001b[0m_init_compiled\u001b[0m\u001b[1;33m,\u001b[0m\u001b[1;33m\u001b[0m\u001b[1;33m\u001b[0m\u001b[0m\n",
      "\u001b[1;32m~\\anaconda3\\lib\\site-packages\\sqlalchemy\\engine\\base.py\u001b[0m in \u001b[0;36m_execute_context\u001b[1;34m(self, dialect, constructor, statement, parameters, execution_options, *args, **kw)\u001b[0m\n\u001b[0;32m   1746\u001b[0m \u001b[1;33m\u001b[0m\u001b[0m\n\u001b[0;32m   1747\u001b[0m         \u001b[1;32mexcept\u001b[0m \u001b[0mBaseException\u001b[0m \u001b[1;32mas\u001b[0m \u001b[0me\u001b[0m\u001b[1;33m:\u001b[0m\u001b[1;33m\u001b[0m\u001b[1;33m\u001b[0m\u001b[0m\n\u001b[1;32m-> 1748\u001b[1;33m             self._handle_dbapi_exception(\n\u001b[0m\u001b[0;32m   1749\u001b[0m                 \u001b[0me\u001b[0m\u001b[1;33m,\u001b[0m \u001b[0mstatement\u001b[0m\u001b[1;33m,\u001b[0m \u001b[0mparameters\u001b[0m\u001b[1;33m,\u001b[0m \u001b[0mcursor\u001b[0m\u001b[1;33m,\u001b[0m \u001b[0mcontext\u001b[0m\u001b[1;33m\u001b[0m\u001b[1;33m\u001b[0m\u001b[0m\n\u001b[0;32m   1750\u001b[0m             )\n",
      "\u001b[1;32m~\\anaconda3\\lib\\site-packages\\sqlalchemy\\engine\\base.py\u001b[0m in \u001b[0;36m_handle_dbapi_exception\u001b[1;34m(self, e, statement, parameters, cursor, context)\u001b[0m\n\u001b[0;32m   1927\u001b[0m                 \u001b[0mutil\u001b[0m\u001b[1;33m.\u001b[0m\u001b[0mraise_\u001b[0m\u001b[1;33m(\u001b[0m\u001b[0mnewraise\u001b[0m\u001b[1;33m,\u001b[0m \u001b[0mwith_traceback\u001b[0m\u001b[1;33m=\u001b[0m\u001b[0mexc_info\u001b[0m\u001b[1;33m[\u001b[0m\u001b[1;36m2\u001b[0m\u001b[1;33m]\u001b[0m\u001b[1;33m,\u001b[0m \u001b[0mfrom_\u001b[0m\u001b[1;33m=\u001b[0m\u001b[0me\u001b[0m\u001b[1;33m)\u001b[0m\u001b[1;33m\u001b[0m\u001b[1;33m\u001b[0m\u001b[0m\n\u001b[0;32m   1928\u001b[0m             \u001b[1;32melif\u001b[0m \u001b[0mshould_wrap\u001b[0m\u001b[1;33m:\u001b[0m\u001b[1;33m\u001b[0m\u001b[1;33m\u001b[0m\u001b[0m\n\u001b[1;32m-> 1929\u001b[1;33m                 util.raise_(\n\u001b[0m\u001b[0;32m   1930\u001b[0m                     \u001b[0msqlalchemy_exception\u001b[0m\u001b[1;33m,\u001b[0m \u001b[0mwith_traceback\u001b[0m\u001b[1;33m=\u001b[0m\u001b[0mexc_info\u001b[0m\u001b[1;33m[\u001b[0m\u001b[1;36m2\u001b[0m\u001b[1;33m]\u001b[0m\u001b[1;33m,\u001b[0m \u001b[0mfrom_\u001b[0m\u001b[1;33m=\u001b[0m\u001b[0me\u001b[0m\u001b[1;33m\u001b[0m\u001b[1;33m\u001b[0m\u001b[0m\n\u001b[0;32m   1931\u001b[0m                 )\n",
      "\u001b[1;32m~\\anaconda3\\lib\\site-packages\\sqlalchemy\\util\\compat.py\u001b[0m in \u001b[0;36mraise_\u001b[1;34m(***failed resolving arguments***)\u001b[0m\n\u001b[0;32m    209\u001b[0m \u001b[1;33m\u001b[0m\u001b[0m\n\u001b[0;32m    210\u001b[0m         \u001b[1;32mtry\u001b[0m\u001b[1;33m:\u001b[0m\u001b[1;33m\u001b[0m\u001b[1;33m\u001b[0m\u001b[0m\n\u001b[1;32m--> 211\u001b[1;33m             \u001b[1;32mraise\u001b[0m \u001b[0mexception\u001b[0m\u001b[1;33m\u001b[0m\u001b[1;33m\u001b[0m\u001b[0m\n\u001b[0m\u001b[0;32m    212\u001b[0m         \u001b[1;32mfinally\u001b[0m\u001b[1;33m:\u001b[0m\u001b[1;33m\u001b[0m\u001b[1;33m\u001b[0m\u001b[0m\n\u001b[0;32m    213\u001b[0m             \u001b[1;31m# credit to\u001b[0m\u001b[1;33m\u001b[0m\u001b[1;33m\u001b[0m\u001b[1;33m\u001b[0m\u001b[0m\n",
      "\u001b[1;32m~\\anaconda3\\lib\\site-packages\\sqlalchemy\\engine\\base.py\u001b[0m in \u001b[0;36m_execute_context\u001b[1;34m(self, dialect, constructor, statement, parameters, execution_options, *args, **kw)\u001b[0m\n\u001b[0;32m   1683\u001b[0m                             \u001b[1;32mbreak\u001b[0m\u001b[1;33m\u001b[0m\u001b[1;33m\u001b[0m\u001b[0m\n\u001b[0;32m   1684\u001b[0m                 \u001b[1;32mif\u001b[0m \u001b[1;32mnot\u001b[0m \u001b[0mevt_handled\u001b[0m\u001b[1;33m:\u001b[0m\u001b[1;33m\u001b[0m\u001b[1;33m\u001b[0m\u001b[0m\n\u001b[1;32m-> 1685\u001b[1;33m                     self.dialect.do_executemany(\n\u001b[0m\u001b[0;32m   1686\u001b[0m                         \u001b[0mcursor\u001b[0m\u001b[1;33m,\u001b[0m \u001b[0mstatement\u001b[0m\u001b[1;33m,\u001b[0m \u001b[0mparameters\u001b[0m\u001b[1;33m,\u001b[0m \u001b[0mcontext\u001b[0m\u001b[1;33m\u001b[0m\u001b[1;33m\u001b[0m\u001b[0m\n\u001b[0;32m   1687\u001b[0m                     )\n",
      "\u001b[1;32m~\\anaconda3\\lib\\site-packages\\sqlalchemy\\dialects\\postgresql\\psycopg2.py\u001b[0m in \u001b[0;36mdo_executemany\u001b[1;34m(self, cursor, statement, parameters, context)\u001b[0m\n\u001b[0;32m    901\u001b[0m                 \u001b[0mkwargs\u001b[0m \u001b[1;33m=\u001b[0m \u001b[1;33m{\u001b[0m\u001b[1;33m}\u001b[0m\u001b[1;33m\u001b[0m\u001b[1;33m\u001b[0m\u001b[0m\n\u001b[0;32m    902\u001b[0m             \u001b[0mxtras\u001b[0m \u001b[1;33m=\u001b[0m \u001b[0mself\u001b[0m\u001b[1;33m.\u001b[0m\u001b[0m_psycopg2_extras\u001b[0m\u001b[1;33m(\u001b[0m\u001b[1;33m)\u001b[0m\u001b[1;33m\u001b[0m\u001b[1;33m\u001b[0m\u001b[0m\n\u001b[1;32m--> 903\u001b[1;33m             context._psycopg2_fetched_rows = xtras.execute_values(\n\u001b[0m\u001b[0;32m    904\u001b[0m                 \u001b[0mcursor\u001b[0m\u001b[1;33m,\u001b[0m\u001b[1;33m\u001b[0m\u001b[1;33m\u001b[0m\u001b[0m\n\u001b[0;32m    905\u001b[0m                 \u001b[0mstatement\u001b[0m\u001b[1;33m,\u001b[0m\u001b[1;33m\u001b[0m\u001b[1;33m\u001b[0m\u001b[0m\n",
      "\u001b[1;32m~\\anaconda3\\lib\\site-packages\\psycopg2\\extras.py\u001b[0m in \u001b[0;36mexecute_values\u001b[1;34m(cur, sql, argslist, template, page_size, fetch)\u001b[0m\n\u001b[0;32m   1268\u001b[0m             \u001b[0mparts\u001b[0m\u001b[1;33m.\u001b[0m\u001b[0mappend\u001b[0m\u001b[1;33m(\u001b[0m\u001b[1;34mb','\u001b[0m\u001b[1;33m)\u001b[0m\u001b[1;33m\u001b[0m\u001b[1;33m\u001b[0m\u001b[0m\n\u001b[0;32m   1269\u001b[0m         \u001b[0mparts\u001b[0m\u001b[1;33m[\u001b[0m\u001b[1;33m-\u001b[0m\u001b[1;36m1\u001b[0m\u001b[1;33m:\u001b[0m\u001b[1;33m]\u001b[0m \u001b[1;33m=\u001b[0m \u001b[0mpost\u001b[0m\u001b[1;33m\u001b[0m\u001b[1;33m\u001b[0m\u001b[0m\n\u001b[1;32m-> 1270\u001b[1;33m         \u001b[0mcur\u001b[0m\u001b[1;33m.\u001b[0m\u001b[0mexecute\u001b[0m\u001b[1;33m(\u001b[0m\u001b[1;34mb''\u001b[0m\u001b[1;33m.\u001b[0m\u001b[0mjoin\u001b[0m\u001b[1;33m(\u001b[0m\u001b[0mparts\u001b[0m\u001b[1;33m)\u001b[0m\u001b[1;33m)\u001b[0m\u001b[1;33m\u001b[0m\u001b[1;33m\u001b[0m\u001b[0m\n\u001b[0m\u001b[0;32m   1271\u001b[0m         \u001b[1;32mif\u001b[0m \u001b[0mfetch\u001b[0m\u001b[1;33m:\u001b[0m\u001b[1;33m\u001b[0m\u001b[1;33m\u001b[0m\u001b[0m\n\u001b[0;32m   1272\u001b[0m             \u001b[0mresult\u001b[0m\u001b[1;33m.\u001b[0m\u001b[0mextend\u001b[0m\u001b[1;33m(\u001b[0m\u001b[0mcur\u001b[0m\u001b[1;33m.\u001b[0m\u001b[0mfetchall\u001b[0m\u001b[1;33m(\u001b[0m\u001b[1;33m)\u001b[0m\u001b[1;33m)\u001b[0m\u001b[1;33m\u001b[0m\u001b[1;33m\u001b[0m\u001b[0m\n",
      "\u001b[1;31mIntegrityError\u001b[0m: (psycopg2.errors.ForeignKeyViolation) insert or update on table \"Automation\" violates foreign key constraint \"fk_Automation_SOC\"\nDETAIL:  Key (SOC)=(13-1078) is not present in table \"Salary\".\n\n[SQL: INSERT INTO \"Automation\" (\"SOC\", \"OCCUPATION\", \"Automation_Probability\", \"Alabama\", \"Alaska\", \"Arizona\", \"Arkansas\", \"California\", \"Colorado\", \"Connecticut\", \"Delaware\", \"District_of_Columbia\", \"Florida\", \"Georgia\", \"Hawaii\", \"Idaho\", \"Illinois\", \"Indiana\", \"Iowa\", \"Kansas\", \"Kentucky\", \"Louisiana\", \"Maine\", \"Maryland\", \"Massachusetts\", \"Michigan\", \"Minnesota\", \"Mississippi\", \"Missouri\", \"Montana\", \"Nebraska\", \"Nevada\", \"New_Hampshire\", \"New_Jersey\", \"New_Mexico\", \"New_York\", \"North_Carolina\", \"North_Dakota\", \"Ohio\", \"Oklahoma\", \"Oregon\", \"Pennsylvania\", \"Rhode_Island\", \"South_Carolina\", \"South_Dakota\", \"Tennessee\", \"Texas\", \"Utah\", \"Vermont\", \"Virginia\", \"Washington\", \"West_Virginia\", \"Wisconsin\", \"Wyoming\") VALUES (%(SOC)s, %(OCCUPATION)s, %(Automation_Probability)s, %(Alabama)s, %(Alaska)s, %(Arizona)s, %(Arkansas)s, %(California)s, %(Colorado)s, %(Connecticut)s, %(Delaware)s, %(District_of_Columbia)s, %(Florida)s, %(Georgia)s, %(Hawaii)s, %(Idaho)s, %(Illinois)s, %(Indiana)s, %(Iowa)s, %(Kansas)s, %(Kentucky)s, %(Louisiana)s, %(Maine)s, %(Maryland)s, %(Massachusetts)s, %(Michigan)s, %(Minnesota)s, %(Mississippi)s, %(Missouri)s, %(Montana)s, %(Nebraska)s, %(Nevada)s, %(New_Hampshire)s, %(New_Jersey)s, %(New_Mexico)s, %(New_York)s, %(North_Carolina)s, %(North_Dakota)s, %(Ohio)s, %(Oklahoma)s, %(Oregon)s, %(Pennsylvania)s, %(Rhode_Island)s, %(South_Carolina)s, %(South_Dakota)s, %(Tennessee)s, %(Texas)s, %(Utah)s, %(Vermont)s, %(Virginia)s, %(Washington)s, %(West_Virginia)s, %(Wisconsin)s, %(Wyoming)s)]\n[parameters: ({'SOC': '11-1011', 'OCCUPATION': 'Chief Executives', 'Automation_Probability': 0.015, 'Alabama': 1030, 'Alaska': 760, 'Arizona': 5750, 'Arkansas': 2710, 'California': 31150, 'Colorado': 880, 'Connecticut': 1410, 'Delaware': 340, 'District_of_Columbia': 2840, 'Florida': 14120, 'Georgia': 6750, 'Hawaii': 1840, 'Idaho': 1400, 'Illinois': 17440, 'Indiana': 4950, 'Iowa': 2050, 'Kansas': 4410, 'Kentucky': 3440, 'Louisiana': 1010, 'Maine': 920, 'Maryland': 1800, 'Massachusetts': 11020, 'Michigan': 6260, 'Minnesota': 7490, 'Mississippi': 940, 'Missouri': 5180, 'Montana': 600, 'Nebraska': 690, 'Nevada': 1410, 'New_Hampshire': 940, 'New_Jersey': 700, 'New_Mexico': 70, 'New_York': 15410, 'North_Carolina': 4310, 'North_Dakota': 920, 'Ohio': 5340, 'Oklahoma': 6370, 'Oregon': 2650, 'Pennsylvania': 9230, 'Rhode_Island': 390, 'South_Carolina': 3400, 'South_Dakota': 560, 'Tennessee': 5460, 'Texas': 5890, 'Utah': 3650, 'Vermont': 280, 'Virginia': 6320, 'Washington': 5910, 'West_Virginia': 980, 'Wisconsin': 3740, 'Wyoming': 160}, {'SOC': '11-1021', 'OCCUPATION': 'General and Operations Managers', 'Automation_Probability': 0.16, 'Alabama': 26930, 'Alaska': 6490, 'Arizona': 43300, 'Arkansas': 20680, 'California': 261780, 'Colorado': 41540, 'Connecticut': 33280, 'Delaware': 4080, 'District_of_Columbia': 26610, 'Florida': 77340, 'Georgia': 90520, 'Hawaii': 11070, 'Idaho': 12250, 'Illinois': 121040, 'Indiana': 49210, 'Iowa': 25900, 'Kansas': 19620, 'Kentucky': 26190, 'Louisiana': 29920, 'Maine': 12360, 'Maryland': 47850, 'Massachusetts': 71880, 'Michigan': 58040, 'Minnesota': 41480, 'Mississippi': 24110, 'Missouri': 41440, 'Montana': 4490, 'Nebraska': 14420, 'Nevada': 17480, 'New_Hampshire': 11030, 'New_Jersey': 44800, 'New_Mexico': 15550, 'New_York': 162870, 'North_Carolina': 53770, 'North_Dakota': 7010, 'Ohio': 64710, 'Oklahoma': 27400, 'Oregon': 32350, 'Pennsylvania': 70430, 'Rhode_Island': 6640, 'South_Carolina': 31780, 'South_Dakota': 3730, 'Tennessee': 44400, 'Texas': 168610, 'Utah': 36200, 'Vermont': 2760, 'Virginia': 52380, 'Washington': 43760, 'West_Virginia': 10200, 'Wisconsin': 32350, 'Wyoming': 4840}, {'SOC': '11-2011', 'OCCUPATION': 'Advertising and Promotions Managers', 'Automation_Probability': 0.039, 'Alabama': 50, 'Alaska': 40, 'Arizona': 470, 'Arkansas': 110, 'California': 3760, 'Colorado': 480, 'Connecticut': 300, 'Delaware': 0, 'District_of_Columbia': 220, 'Florida': 750, 'Georgia': 820, 'Hawaii': 200, 'Idaho': 160, 'Illinois': 3670, 'Indiana': 290, 'Iowa': 230, 'Kansas': 230, 'Kentucky': 270, 'Louisiana': 320, 'Maine': 130, 'Maryland': 460, 'Massachusetts': 1290, 'Michigan': 650, 'Minnesota': 610, 'Mississippi': 150, 'Missouri': 390, 'Montana': 30, 'Nebraska': 80, 'Nevada': 280, 'New_Hampshire': 150, 'New_Jersey': 630, 'New_Mexico': 190, 'New_York': 5130, 'North_Carolina': 450, 'North_Dakota': 70, 'Ohio': 460, 'Oklahoma': 200, 'Oregon': 0, 'Pennsylvania': 570, 'Rhode_Island': 100, 'South_Carolina': 270, 'South_Dakota': 0, 'Tennessee': 670, 'Texas': 1210, 'Utah': 380, 'Vermont': 40, 'Virginia': 240, 'Washington': 640, 'West_Virginia': 40, 'Wisconsin': 200, 'Wyoming': 0}, {'SOC': '11-2021', 'OCCUPATION': 'Marketing Managers', 'Automation_Probability': 0.014, 'Alabama': 530, 'Alaska': 200, 'Arizona': 4790, 'Arkansas': 1090, 'California': 33390, 'Colorado': 3060, 'Connecticut': 4970, 'Delaware': 590, 'District_of_Columbia': 1280, 'Florida': 7600, 'Georgia': 7140, 'Hawaii': 540, 'Idaho': 860, 'Illinois': 14030, 'Indiana': 2870, 'Iowa': 1920, 'Kansas': 1470, 'Kentucky': 1490, 'Louisiana': 920, 'Maine': 810, 'Maryland': 2980, 'Massachusetts': 11790, 'Michigan': 3870, 'Minnesota': 7800, 'Mississippi': 470, 'Missouri': 2590, 'Montana': 130, 'Nebraska': 1060, 'Nevada': 1640, 'New_Hampshire': 1170, 'New_Jersey': 11260, 'New_Mexico': 350, 'New_York': 16500, 'North_Carolina': 5650, 'North_Dakota': 310, 'Ohio': 5350, 'Oklahoma': 1420, 'Oregon': 4830, 'Pennsylvania': 6250, 'Rhode_Island': 550, 'South_Carolina': 1710, 'South_Dakota': 60, 'Tennessee': 3400, 'Texas': 9570, 'Utah': 2320, 'Vermont': 380, 'Virginia': 3840, 'Washington': 5830, 'West_Virginia': 260, 'Wisconsin': 2980, 'Wyoming': 30}, {'SOC': '11-2022', 'OCCUPATION': 'Sales Managers', 'Automation_Probability': 0.013, 'Alabama': 2510, 'Alaska': 400, 'Arizona': 10650, 'Arkansas': 2650, 'California': 69180, 'Colorado': 4570, 'Connecticut': 7040, 'Delaware': 860, 'District_of_Columbia': 1180, 'Florida': 13560, 'Georgia': 15460, 'Hawaii': 2470, 'Idaho': 2200, 'Illinois': 24150, 'Indiana': 5770, 'Iowa': 3350, 'Kansas': 3250, 'Kentucky': 3420, 'Louisiana': 3560, 'Maine': 980, 'Maryland': 5230, 'Massachusetts': 14860, 'Michigan': 10090, 'Minnesota': 12590, 'Mississippi': 1460, 'Missouri': 5480, 'Montana': 190, 'Nebraska': 1930, 'Nevada': 3350, 'New_Hampshire': 1750, 'New_Jersey': 12840, 'New_Mexico': 1200, 'New_York': 20170, 'North_Carolina': 6750, 'North_Dakota': 710, 'Ohio': 11410, 'Oklahoma': 3890, 'Oregon': 6220, 'Pennsylvania': 8930, 'Rhode_Island': 850, 'South_Carolina': 3540, 'South_Dakota': 300, 'Tennessee': 8890, 'Texas': 22310, 'Utah': 3360, 'Vermont': 480, 'Virginia': 5360, 'Washington': 7390, 'West_Virginia': 600, 'Wisconsin': 5730, 'Wyoming': 180}, {'SOC': '11-2031', 'OCCUPATION': 'Public Relations and Fundraising Managers', 'Automation_Probability': 0.015, 'Alabama': 400, 'Alaska': 150, 'Arizona': 1240, 'Arkansas': 300, 'California': 7010, 'Colorado': 960, 'Connecticut': 980, 'Delaware': 210, 'District_of_Columbia': 4360, 'Florida': 1710, 'Georgia': 1470, 'Hawaii': 360, 'Idaho': 200, 'Illinois': 3830, 'Indiana': 870, 'Iowa': 960, 'Kansas': 480, 'Kentucky': 630, 'Louisiana': 310, 'Maine': 420, 'Maryland': 1350, 'Massachusetts': 4200, 'Michigan': 1300, 'Minnesota': 1880, 'Mississippi': 270, 'Missouri': 1020, 'Montana': 140, 'Nebraska': 580, 'Nevada': 470, 'New_Hampshire': 470, 'New_Jersey': 1900, 'New_Mexico': 180, 'New_York': 6040, 'North_Carolina': 1100, 'North_Dakota': 170, 'Ohio': 1790, 'Oklahoma': 720, 'Oregon': 1470, 'Pennsylvania': 1640, 'Rhode_Island': 260, 'South_Carolina': 520, 'South_Dakota': 0, 'Tennessee': 870, 'Texas': 3680, 'Utah': 380, 'Vermont': 210, 'Virginia': 1250, 'Washington': 2100, 'West_Virginia': 130, 'Wisconsin': 1010, 'Wyoming': 0}, {'SOC': '11-3011', 'OCCUPATION': 'Administrative Services Managers', 'Automation_Probability': 0.73, 'Alabama': 640, 'Alaska': 530, 'Arizona': 6870, 'Arkansas': 1850, 'California': 40720, 'Colorado': 2280, 'Connecticut': 4110, 'Delaware': 820, 'District_of_Columbia': 1770, 'Florida': 10710, 'Georgia': 9040, 'Hawaii': 1480, 'Idaho': 1400, 'Illinois': 14450, 'Indiana': 3450, 'Iowa': 2240, 'Kansas': 2560, 'Kentucky': 2580, 'Louisiana': 2980, 'Maine': 1580, 'Maryland': 5060, 'Massachusetts': 13040, 'Michigan': 6110, 'Minnesota': 6930, 'Mississippi': 3040, 'Missouri': 5350, 'Montana': 320, 'Nebraska': 1890, 'Nevada': 1450, 'New_Hampshire': 860, 'New_Jersey': 8510, 'New_Mexico': 1690, 'New_York': 18480, 'North_Carolina': 4630, 'North_Dakota': 660, 'Ohio': 9620, 'Oklahoma': 4630, 'Oregon': 3550, 'Pennsylvania': 6860, 'Rhode_Island': 670, 'South_Carolina': 3110, 'South_Dakota': 340, 'Tennessee': 7550, 'Texas': 20440, 'Utah': 2120, 'Vermont': 410, 'Virginia': 4120, 'Washington': 4890, 'West_Virginia': 1590, 'Wisconsin': 6070, 'Wyoming': 220}, {'SOC': '11-3021', 'OCCUPATION': 'Computer and Information Systems Managers', 'Automation_Probability': 0.035, 'Alabama': 3260, 'Alaska': 340, 'Arizona': 6720, 'Arkansas': 2100, 'California': 51840, 'Colorado': 6340, 'Connecticut': 7900, 'Delaware': 1260, 'District_of_Columbia': 3850, 'Florida': 11460, 'Georgia': 12520, 'Hawaii': 640, 'Idaho': 1130, 'Illinois': 15740, 'Indiana': 4630, 'Iowa': 3450, 'Kansas': 2910, 'Kentucky': 2440, 'Louisiana': 1930, 'Maine': 1430, 'Maryland': 9270, 'Massachusetts': 15540, 'Michigan': 8730, 'Minnesota': 10150, 'Mississippi': 1170, 'Missouri': 6090, 'Montana': 460, 'Nebraska': 1910, 'Nevada': 1350, 'New_Hampshire': 1930, 'New_Jersey': 13930, 'New_Mexico': 1110, 'New_York': 26000, 'North_Carolina': 11970, 'North_Dakota': 530, 'Ohio': 13040, 'Oklahoma': 3170, 'Oregon': 4850, 'Pennsylvania': 12150, 'Rhode_Island': 1160, 'South_Carolina': 3020, 'South_Dakota': 210, 'Tennessee': 5540, 'Texas': 20010, 'Utah': 4190, 'Vermont': 340, 'Virginia': 13720, 'Washington': 11790, 'West_Virginia': 720, 'Wisconsin': 6400, 'Wyoming': 200}  ... displaying 10 of 702 total bound parameter sets ...  {'SOC': '53-7111', 'OCCUPATION': 'Mine Shuttle Car Operators', 'Automation_Probability': 0.37, 'Alabama': 50, 'Alaska': 0, 'Arizona': 0, 'Arkansas': 0, 'California': 0, 'Colorado': 70, 'Connecticut': 0, 'Delaware': 0, 'District_of_Columbia': 0, 'Florida': 0, 'Georgia': 0, 'Hawaii': 0, 'Idaho': 0, 'Illinois': 160, 'Indiana': 40, 'Iowa': 0, 'Kansas': 0, 'Kentucky': 360, 'Louisiana': 0, 'Maine': 0, 'Maryland': 0, 'Massachusetts': 0, 'Michigan': 0, 'Minnesota': 0, 'Mississippi': 0, 'Missouri': 0, 'Montana': 0, 'Nebraska': 0, 'Nevada': 0, 'New_Hampshire': 0, 'New_Jersey': 0, 'New_Mexico': 0, 'New_York': 0, 'North_Carolina': 0, 'North_Dakota': 0, 'Ohio': 0, 'Oklahoma': 0, 'Oregon': 0, 'Pennsylvania': 180, 'Rhode_Island': 0, 'South_Carolina': 0, 'South_Dakota': 0, 'Tennessee': 0, 'Texas': 0, 'Utah': 0, 'Vermont': 0, 'Virginia': 0, 'Washington': 0, 'West_Virginia': 510, 'Wisconsin': 0, 'Wyoming': 0}, {'SOC': '53-7121', 'OCCUPATION': 'Tank Car; Truck; and Ship Loaders', 'Automation_Probability': 0.72, 'Alabama': 600, 'Alaska': 80, 'Arizona': 110, 'Arkansas': 50, 'California': 360, 'Colorado': 80, 'Connecticut': 0, 'Delaware': 0, 'District_of_Columbia': 0, 'Florida': 270, 'Georgia': 350, 'Hawaii': 0, 'Idaho': 0, 'Illinois': 230, 'Indiana': 230, 'Iowa': 100, 'Kansas': 60, 'Kentucky': 300, 'Louisiana': 890, 'Maine': 0, 'Maryland': 50, 'Massachusetts': 70, 'Michigan': 40, 'Minnesota': 130, 'Mississippi': 340, 'Missouri': 60, 'Montana': 0, 'Nebraska': 50, 'Nevada': 0, 'New_Hampshire': 0, 'New_Jersey': 500, 'New_Mexico': 40, 'New_York': 60, 'North_Carolina': 0, 'North_Dakota': 190, 'Ohio': 260, 'Oklahoma': 260, 'Oregon': 320, 'Pennsylvania': 160, 'Rhode_Island': 0, 'South_Carolina': 0, 'South_Dakota': 0, 'Tennessee': 190, 'Texas': 3250, 'Utah': 0, 'Vermont': 0, 'Virginia': 180, 'Washington': 350, 'West_Virginia': 0, 'Wisconsin': 190, 'Wyoming': 80})]\n(Background on this error at: http://sqlalche.me/e/14/gkpj)"
     ]
    }
   ],
   "source": [
    "automation_df.to_sql(name='Automation',con=engine,if_exists='append',index=False)"
   ]
  },
  {
   "cell_type": "code",
   "execution_count": null,
   "id": "8d1372c1",
   "metadata": {},
   "outputs": [],
   "source": []
  }
 ],
 "metadata": {
  "kernelspec": {
   "display_name": "Python 3",
   "language": "python",
   "name": "python3"
  },
  "language_info": {
   "codemirror_mode": {
    "name": "ipython",
    "version": 3
   },
   "file_extension": ".py",
   "mimetype": "text/x-python",
   "name": "python",
   "nbconvert_exporter": "python",
   "pygments_lexer": "ipython3",
   "version": "3.8.8"
  }
 },
 "nbformat": 4,
 "nbformat_minor": 5
}
